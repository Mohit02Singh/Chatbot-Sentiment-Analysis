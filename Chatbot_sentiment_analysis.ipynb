{
  "nbformat": 4,
  "nbformat_minor": 0,
  "metadata": {
    "colab": {
      "provenance": []
    },
    "kernelspec": {
      "name": "python3",
      "display_name": "Python 3"
    },
    "language_info": {
      "name": "python"
    }
  },
  "cells": [
    {
      "cell_type": "code",
      "execution_count": null,
      "metadata": {
        "colab": {
          "base_uri": "https://localhost:8080/"
        },
        "id": "ON_nn7RrYCfe",
        "outputId": "f8d94f65-817d-4f48-8346-76e00d8afd6d"
      },
      "outputs": [
        {
          "output_type": "stream",
          "name": "stderr",
          "text": [
            "[nltk_data] Downloading package vader_lexicon to /root/nltk_data...\n"
          ]
        },
        {
          "name": "stdout",
          "output_type": "stream",
          "text": [
            "You: I am happy\n",
            "Chatbot: The sentiment of your message is Positive.\n",
            "You: Why are you so angry.\n",
            "Chatbot: The sentiment of your message is Negative.\n",
            "You: Any problem.\n",
            "Chatbot: The sentiment of your message is Negative.\n",
            "You: My name is Golu.\n",
            "Chatbot: The sentiment of your message is Neutral.\n",
            "You: exit\n"
          ]
        }
      ],
      "source": [
        "import nltk\n",
        "from nltk.sentiment.vader import SentimentIntensityAnalyzer\n",
        "\n",
        "# Download the VADER lexicon (if not already downloaded)\n",
        "nltk.download('vader_lexicon')\n",
        "\n",
        "# Initialize the SentimentIntensityAnalyzer\n",
        "analyzer = SentimentIntensityAnalyzer()\n",
        "\n",
        "def analyze_sentiment(message):\n",
        "    # Analyze sentiment of the message\n",
        "    sentiment_scores = analyzer.polarity_scores(message)\n",
        "    # Determine sentiment based on compound score\n",
        "    compound_score = sentiment_scores['compound']\n",
        "    if compound_score >= 0.05:\n",
        "        return \"Positive\"\n",
        "    elif compound_score <= -0.05:\n",
        "        return \"Negative\"\n",
        "    else:\n",
        "        return \"Neutral\"\n",
        "\n",
        "# Sample conversation loop\n",
        "while True:\n",
        "    user_input = input(\"You: \")\n",
        "\n",
        "    if user_input.lower() == 'exit':\n",
        "        break\n",
        "\n",
        "    sentiment = analyze_sentiment(user_input)\n",
        "    print(f\"Chatbot: The sentiment of your message is {sentiment}.\")\n"
      ]
    }
  ]
}